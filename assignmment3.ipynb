{
 "cells": [
  {
   "cell_type": "code",
   "execution_count": 1,
   "id": "180ce1aa",
   "metadata": {},
   "outputs": [],
   "source": [
    "import numpy as np"
   ]
  },
  {
   "cell_type": "markdown",
   "id": "ad3b8730",
   "metadata": {},
   "source": [
    "1. Create a 2D Numpy array with shape (3, 3) containing random integers\n",
    "between 1 and 20."
   ]
  },
  {
   "cell_type": "code",
   "execution_count": 4,
   "id": "93b51dd7",
   "metadata": {},
   "outputs": [
    {
     "name": "stdout",
     "output_type": "stream",
     "text": [
      "[[10 19 15]\n",
      " [ 5 16  2]\n",
      " [18  3 17]]\n"
     ]
    }
   ],
   "source": [
    "q1=np.random.randint(1,20,size=(3,3))\n",
    "print(q1)"
   ]
  },
  {
   "cell_type": "markdown",
   "id": "7a7066dd",
   "metadata": {},
   "source": [
    "2. Write a NumPy program to create a 5x5 array with random values and find\n",
    "the minimum and maximum values for each row."
   ]
  },
  {
   "cell_type": "code",
   "execution_count": 55,
   "id": "771e0a0b",
   "metadata": {},
   "outputs": [
    {
     "name": "stdout",
     "output_type": "stream",
     "text": [
      "[[31 22 74 81 11]\n",
      " [ 9  0 77 14 35]\n",
      " [23 72 99 73 33]\n",
      " [77 93 12 37 95]\n",
      " [51 98 96 47 23]]\n",
      "\n",
      "[11  0 23 12 23]\n",
      "\n",
      "[81 77 99 95 98]\n",
      "\n"
     ]
    }
   ],
   "source": [
    "q2= np.random.randint(0,100,size=(5,5))\n",
    "print(f\"{q2}\\n\")\n",
    "\n",
    "min_row = np.min(q2, axis=1)\n",
    "print(f\"{min_row}\\n\")\n",
    "\n",
    "max_row= np.max(q2, axis=1)\n",
    "print(f\"{max_row}\\n\")\n",
    "#for row in q2 :\n",
    "    "
   ]
  },
  {
   "cell_type": "markdown",
   "id": "2178c11a",
   "metadata": {},
   "source": [
    "3. Write a NumPy program to create a random vector of size 10 and sort it."
   ]
  },
  {
   "cell_type": "code",
   "execution_count": null,
   "id": "de2d79ce",
   "metadata": {},
   "outputs": [
    {
     "name": "stdout",
     "output_type": "stream",
     "text": [
      "original vector:[71 36 40 74 83 86 59 43 96 24]\n",
      "\n",
      "sorted vector:[24 36 40 43 59 71 74 83 86 96]\n",
      "\n"
     ]
    }
   ],
   "source": [
    "q3=np.random.randint(0,100,10)\n",
    "print(f'original vector:{q3}\\n')\n",
    "\n",
    "q3.sort()\n",
    "print(f'sorted vector:{q3}\\n')"
   ]
  },
  {
   "cell_type": "markdown",
   "id": "5ae7a3ad",
   "metadata": {},
   "source": [
    "4. Write a NumPy program to find the most frequent value in an array."
   ]
  },
  {
   "cell_type": "code",
   "execution_count": 19,
   "id": "724c372e",
   "metadata": {},
   "outputs": [
    {
     "name": "stdout",
     "output_type": "stream",
     "text": [
      "3\n"
     ]
    }
   ],
   "source": [
    "q4=np.array([1,2,3,3,4,5,6])\n",
    "\n",
    "print(np.bincount(q4).argmax())"
   ]
  },
  {
   "cell_type": "markdown",
   "id": "a84d6771",
   "metadata": {},
   "source": [
    "5. Replace all even numbers in the 2D array with 0."
   ]
  },
  {
   "cell_type": "code",
   "execution_count": 24,
   "id": "dcc04c93",
   "metadata": {},
   "outputs": [
    {
     "name": "stdout",
     "output_type": "stream",
     "text": [
      "[[1 0 3 0 5]\n",
      " [0 7 0 9 0]]\n"
     ]
    }
   ],
   "source": [
    "q5=np.array([[1,2,3,4,5],\n",
    "           [6,7,8,9,10]])\n",
    "\n",
    "q5[q5%2==0]=0\n",
    "print(q5)\n"
   ]
  },
  {
   "cell_type": "markdown",
   "id": "579e9076",
   "metadata": {},
   "source": [
    "6. Apply the square root function to each element of the 1D array."
   ]
  },
  {
   "cell_type": "code",
   "execution_count": 56,
   "id": "fded7413",
   "metadata": {},
   "outputs": [
    {
     "name": "stdout",
     "output_type": "stream",
     "text": [
      "[1. 2. 3. 4. 5. 6.]\n"
     ]
    }
   ],
   "source": [
    "import math\n",
    "q=np.array([1,4,9,16,25,36])\n",
    "q6=np.sqrt(q)\n",
    "print(q6)"
   ]
  },
  {
   "cell_type": "markdown",
   "id": "49773e18",
   "metadata": {},
   "source": [
    "7. Write a NumPy program to create a 3x3 array with random values and\n",
    "subtract the mean of each row from each element."
   ]
  },
  {
   "cell_type": "code",
   "execution_count": 62,
   "id": "f661f17e",
   "metadata": {},
   "outputs": [
    {
     "name": "stdout",
     "output_type": "stream",
     "text": [
      "[[65 19 69]\n",
      " [68  4 62]\n",
      " [ 7 39 71]]\n",
      "[[51.        ]\n",
      " [44.66666667]\n",
      " [39.        ]]\n",
      "\n",
      "[[ 14.         -32.          18.        ]\n",
      " [ 23.33333333 -40.66666667  17.33333333]\n",
      " [-32.           0.          32.        ]]\n"
     ]
    }
   ],
   "source": [
    "q=np.random.randint(0,100,size=(3,3))\n",
    "print(q)\n",
    "\n",
    "print(f'{q.mean(axis=1,keepdims=True)}\\n')\n",
    "\n",
    "q7=q-q.mean(axis=1,keepdims=True)\n",
    "print(q7)"
   ]
  },
  {
   "cell_type": "markdown",
   "id": "211cfa83",
   "metadata": {},
   "source": [
    "8. Create a 1D array containing the first 20 odd numbers."
   ]
  },
  {
   "cell_type": "code",
   "execution_count": 58,
   "id": "6159ac40",
   "metadata": {},
   "outputs": [
    {
     "data": {
      "text/plain": [
       "array([ 1,  3,  5,  7,  9, 11, 13, 15, 17, 19, 21, 23, 25, 27, 29, 31, 33,\n",
       "       35, 37, 39])"
      ]
     },
     "execution_count": 58,
     "metadata": {},
     "output_type": "execute_result"
    }
   ],
   "source": [
    "q8=np.arange(1,40,2)\n",
    "q8"
   ]
  },
  {
   "cell_type": "markdown",
   "id": "c89354ec",
   "metadata": {},
   "source": [
    "9. Write a NumPy program to create a 5x5 array with random values and find\n",
    "the second-largest value in each column."
   ]
  },
  {
   "cell_type": "code",
   "execution_count": null,
   "id": "acf9d837",
   "metadata": {},
   "outputs": [
    {
     "name": "stdout",
     "output_type": "stream",
     "text": [
      "[[93  2 75 79 58]\n",
      " [74 17 40 79 80]\n",
      " [15 33 73 49 45]\n",
      " [21 47 56 85 81]\n",
      " [82 20 89 28 38]]\n",
      "\n",
      "[93 47 89 85 81]\n",
      "\n",
      "[82 33 75 79 80]\n"
     ]
    }
   ],
   "source": [
    "q8=np.random.randint(0,100,size=(5,5))\n",
    "print(f\"{q8}\\n\")\n",
    "\n",
    "max_col = np.max(q8, axis=0)\n",
    "print(f\"{max_col}\\n\")\n",
    "\n",
    "min_s_col=np.partition(q8, -2, axis=0)[-2, :]\n",
    "\n",
    "print(min_s_col)\n",
    "\n"
   ]
  },
  {
   "cell_type": "markdown",
   "id": "d29b380e",
   "metadata": {},
   "source": [
    "10. Write a NumPy program to create a 4x4 array with random values and find\n",
    "the sum of each row."
   ]
  },
  {
   "cell_type": "code",
   "execution_count": 54,
   "id": "a0cce04f",
   "metadata": {},
   "outputs": [
    {
     "name": "stdout",
     "output_type": "stream",
     "text": [
      "[[2 4 8 9]\n",
      " [3 7 4 9]\n",
      " [5 9 7 5]\n",
      " [6 4 9 0]]\n",
      "\n",
      "[23 23 26 19]\n",
      "\n"
     ]
    }
   ],
   "source": [
    "q10=np.random.randint(0,10,size=(4,4))\n",
    "print(f'{q10}\\n')\n",
    "\n",
    "rows_sum=np.sum(q10,axis=1)\n",
    "\n",
    "print(f'{rows_sum}\\n')"
   ]
  }
 ],
 "metadata": {
  "kernelspec": {
   "display_name": "base",
   "language": "python",
   "name": "python3"
  },
  "language_info": {
   "codemirror_mode": {
    "name": "ipython",
    "version": 3
   },
   "file_extension": ".py",
   "mimetype": "text/x-python",
   "name": "python",
   "nbconvert_exporter": "python",
   "pygments_lexer": "ipython3",
   "version": "3.13.5"
  }
 },
 "nbformat": 4,
 "nbformat_minor": 5
}
